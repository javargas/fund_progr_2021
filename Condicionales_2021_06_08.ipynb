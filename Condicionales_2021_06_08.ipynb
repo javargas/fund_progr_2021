{
  "nbformat": 4,
  "nbformat_minor": 0,
  "metadata": {
    "colab": {
      "name": "Condicionales-2021-06-08.ipynb",
      "provenance": [],
      "collapsed_sections": [],
      "toc_visible": true,
      "authorship_tag": "ABX9TyPaM8LPwhs65plvFmtum+9Z",
      "include_colab_link": true
    },
    "kernelspec": {
      "name": "python3",
      "display_name": "Python 3"
    },
    "language_info": {
      "name": "python"
    }
  },
  "cells": [
    {
      "cell_type": "markdown",
      "metadata": {
        "id": "view-in-github",
        "colab_type": "text"
      },
      "source": [
        "<a href=\"https://colab.research.google.com/github/javargas/fund_progr_2021/blob/main/Condicionales_2021_06_08.ipynb\" target=\"_parent\"><img src=\"https://colab.research.google.com/assets/colab-badge.svg\" alt=\"Open In Colab\"/></a>"
      ]
    },
    {
      "cell_type": "markdown",
      "metadata": {
        "id": "ZTOJdEjFlfpt"
      },
      "source": [
        "# ASCII"
      ]
    },
    {
      "cell_type": "markdown",
      "metadata": {
        "id": "u4jkpBdtlarz"
      },
      "source": [
        "\n",
        "Dado un numero entero, determinar si ese numero corresponde al\n",
        "codigo ASCII de una vocal minuscula. Ayuda: utilice la funcion\n",
        "chr(<numero>) de Python que retorna el caracter ASCII\n",
        "correspondiente al numero entero en el cual se evalue la funcion.\n",
        "\n",
        "Entradas:\n",
        "  -  codigo: int.    numero del caracter\n",
        "\n",
        "Salidas:\n",
        "  - string: \"Si\" si es vocal, \"No\" en caso contrario  \n",
        "\n",
        "Diseño:\n",
        " usar la funcion chr\n",
        "\n"
      ]
    },
    {
      "cell_type": "code",
      "metadata": {
        "id": "M3tEblMIlS38"
      },
      "source": [
        "\n",
        "def esVocal(cod):     \n",
        "    caracter = chr(cod)\n",
        "    print(caracter)\n",
        "\n",
        "    return  caracter == 'a' or caracter == 'e' or caracter == 'i' or caracter == 'o' or caracter == 'u'\n",
        "\n",
        "def main():\n",
        "    # 1. Pedir los datos de entrada\n",
        "    codigo = int(input(\"Ingrese le codigo: \"))\n",
        "\n",
        "    # 3. Mostrar el resultado\n",
        "    if esVocal(codigo):\n",
        "        print(\"El codigo es de una vocal minuscula\")\n",
        "    else:\n",
        "        print(\"El codigo NO es de una vocal minuscula\")\n"
      ],
      "execution_count": 2,
      "outputs": []
    },
    {
      "cell_type": "code",
      "metadata": {
        "colab": {
          "base_uri": "https://localhost:8080/"
        },
        "id": "j9eaAmsxlvMV",
        "outputId": "7eb1c974-ed48-41ba-c4fa-bb02bf976709"
      },
      "source": [
        "main()"
      ],
      "execution_count": 3,
      "outputs": [
        {
          "output_type": "stream",
          "text": [
            "Ingrese le codigo: 101\n",
            "e\n",
            "El codigo es de una vocal minuscula\n"
          ],
          "name": "stdout"
        }
      ]
    },
    {
      "cell_type": "markdown",
      "metadata": {
        "id": "LRlkTtLgnLt4"
      },
      "source": [
        "# Geometria"
      ]
    },
    {
      "cell_type": "markdown",
      "metadata": {
        "id": "5knKwadLnOqT"
      },
      "source": [
        "Dado el centro y el radio de un círculo, determinar si un punto de R2 pertenece o no al interior del círculo.\n",
        "\n",
        "**Análisis** \\\\\n",
        "Entradas:\n",
        "*    h: coordenada x del centro\n",
        "*    k: coordenada y del centro\n",
        "*    r: radio del circulo\n",
        "*    x: coordenada x del punto\n",
        "*    y: coordenada y del punto\n",
        "\n",
        "Salida:\n",
        "*    bool: Si esta en el interior No en caso contrario\n",
        "\n",
        "**Diseño** \\\\\n",
        "\n",
        "\n"
      ]
    },
    {
      "cell_type": "markdown",
      "metadata": {
        "id": "clwxT_f_okq0"
      },
      "source": [
        "![image.png](data:image/png;base64,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)"
      ]
    },
    {
      "cell_type": "code",
      "metadata": {
        "id": "_ElBOaUznOL3"
      },
      "source": [
        "def perteneceCirculo(h, k, r, x, y):\n",
        "  return (x-h)**2 + (y-k)**2 <= r**2\n",
        "\n",
        "def main():\n",
        "  print(\"Ingrese las coordenadas del centro: \")\n",
        "  h = float(input())\n",
        "  k = float(input())\n",
        "  radio = float(input(\"Radio: \"))\n",
        "\n",
        "  print(\"Ingrese las coordenadas del punto: \")\n",
        "  x = float(input())\n",
        "  y = float(input())\n",
        "    \n",
        "  if perteneceCirculo(h, k, radio, x, y):\n",
        "    print(\"El punto pertenece al interior del circulo\")\n",
        "  else:\n",
        "    print(\"El punto pertenece al exterior del circulo\")\n"
      ],
      "execution_count": 8,
      "outputs": []
    },
    {
      "cell_type": "code",
      "metadata": {
        "colab": {
          "base_uri": "https://localhost:8080/"
        },
        "id": "tUzQ24IGqDrH",
        "outputId": "0229ea6b-9152-4b11-af52-201eacb1697c"
      },
      "source": [
        "main()"
      ],
      "execution_count": 6,
      "outputs": [
        {
          "output_type": "stream",
          "text": [
            "Ingrese las coordenadas del centro: \n",
            "0\n",
            "0\n",
            "Radio: 5\n",
            "Ingrese las coordenadas del punto: \n",
            "10\n",
            "5\n",
            "El punto pertenece al exterior del circulo\n"
          ],
          "name": "stdout"
        }
      ]
    }
  ]
}