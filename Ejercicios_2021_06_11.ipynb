{
  "nbformat": 4,
  "nbformat_minor": 0,
  "metadata": {
    "colab": {
      "name": "Ejercicios-2021-06-11.ipynb",
      "provenance": [],
      "collapsed_sections": [],
      "authorship_tag": "ABX9TyOk4dMJ4vOFCnbk7ZxZzKnL",
      "include_colab_link": true
    },
    "kernelspec": {
      "name": "python3",
      "display_name": "Python 3"
    },
    "language_info": {
      "name": "python"
    }
  },
  "cells": [
    {
      "cell_type": "markdown",
      "metadata": {
        "id": "view-in-github",
        "colab_type": "text"
      },
      "source": [
        "<a href=\"https://colab.research.google.com/github/javargas/fund_progr_2021/blob/main/Ejercicios_2021_06_11.ipynb\" target=\"_parent\"><img src=\"https://colab.research.google.com/assets/colab-badge.svg\" alt=\"Open In Colab\"/></a>"
      ]
    },
    {
      "cell_type": "markdown",
      "metadata": {
        "id": "CdXH24VGprYs"
      },
      "source": [
        "$ \\sum_{i=1}^n i = \\frac{n*(n+1)}{2} $"
      ]
    },
    {
      "cell_type": "code",
      "metadata": {
        "id": "R7Ypd12iptZv"
      },
      "source": [
        "# version con while \n",
        "def sumatoriaW(n):\n",
        "  i = 1 # inicio\n",
        "  suma = 0\n",
        "  while i <= n:  # condicion de parada\n",
        "    suma += i  # acumulador\n",
        "    i += 1  # contador  -> actualizacion\n",
        "\n",
        "  return suma"
      ],
      "execution_count": 1,
      "outputs": []
    },
    {
      "cell_type": "code",
      "metadata": {
        "colab": {
          "base_uri": "https://localhost:8080/"
        },
        "id": "OpPCLbCipZo2",
        "outputId": "faeb8d6b-34bc-4aca-dd08-5569ced1888c"
      },
      "source": [
        "sumatoriaW(50)"
      ],
      "execution_count": 7,
      "outputs": [
        {
          "output_type": "execute_result",
          "data": {
            "text/plain": [
              "1275"
            ]
          },
          "metadata": {
            "tags": []
          },
          "execution_count": 7
        }
      ]
    },
    {
      "cell_type": "code",
      "metadata": {
        "id": "qfsfyNAyqEvQ"
      },
      "source": [
        "# version con for\n",
        "def sumatoriaF(n):\n",
        "  suma = 0\n",
        "  for x in range(1, n+1): # (x = 1; x < n+1; x += 1)\n",
        "    suma += x\n",
        "  return suma "
      ],
      "execution_count": 4,
      "outputs": []
    },
    {
      "cell_type": "code",
      "metadata": {
        "colab": {
          "base_uri": "https://localhost:8080/"
        },
        "id": "vjLtdFTbqR9i",
        "outputId": "291028f7-4e5c-4872-8a40-8230a0d4ef75"
      },
      "source": [
        "sumatoriaF(50)"
      ],
      "execution_count": 5,
      "outputs": [
        {
          "output_type": "execute_result",
          "data": {
            "text/plain": [
              "1275"
            ]
          },
          "metadata": {
            "tags": []
          },
          "execution_count": 5
        }
      ]
    },
    {
      "cell_type": "code",
      "metadata": {
        "id": "oB9y62Q-qZEz"
      },
      "source": [
        "# version con funciones recursiva\n",
        "# 1+2+3+4 =   4+3+2+1\n",
        "def sumatoriaR(n):\n",
        "  if n == 1:    # condicion de parada\n",
        "    return 1\n",
        "  else:\n",
        "    return n + sumatoriaR(n-1) # Actualizacion, Repeticion\n"
      ],
      "execution_count": 47,
      "outputs": []
    },
    {
      "cell_type": "code",
      "metadata": {
        "colab": {
          "base_uri": "https://localhost:8080/"
        },
        "id": "HsxN62F7rNT-",
        "outputId": "642363d0-94f7-4229-d208-99f75b1de30b"
      },
      "source": [
        "sumatoriaR(50)"
      ],
      "execution_count": 9,
      "outputs": [
        {
          "output_type": "execute_result",
          "data": {
            "text/plain": [
              "1275"
            ]
          },
          "metadata": {
            "tags": []
          },
          "execution_count": 9
        }
      ]
    },
    {
      "cell_type": "code",
      "metadata": {
        "id": "yipQz5rfxAE7"
      },
      "source": [
        "# entrada: hora militar\n",
        "# salida: saludo\n",
        "def saludar(hora):\n",
        "  if hora < 12:\n",
        "    return \"Buenos días\"\n",
        "  elif hora < 18:\n",
        "    return \"Buenas tardes\"\n",
        "  else:\n",
        "    return \"Buenas noches\"\n",
        "  "
      ],
      "execution_count": 10,
      "outputs": []
    },
    {
      "cell_type": "code",
      "metadata": {
        "colab": {
          "base_uri": "https://localhost:8080/",
          "height": 35
        },
        "id": "E68mTce1xT68",
        "outputId": "a512d52e-93f7-45ca-99e6-e8320fee5fbe"
      },
      "source": [
        "saludar(20)  "
      ],
      "execution_count": 13,
      "outputs": [
        {
          "output_type": "execute_result",
          "data": {
            "application/vnd.google.colaboratory.intrinsic+json": {
              "type": "string"
            },
            "text/plain": [
              "'Buenas noches'"
            ]
          },
          "metadata": {
            "tags": []
          },
          "execution_count": 13
        }
      ]
    },
    {
      "cell_type": "code",
      "metadata": {
        "id": "ZnjoPeqYxaC5"
      },
      "source": [
        "# entrada: hora militar\n",
        "# salida: saludo\n",
        "def saludar_v2(hora, meridiano=''):\n",
        "  if meridiano == '' :\n",
        "    return saludar(hora)\n",
        "  if meridiano == 'am':\n",
        "    return \"Buenos días\"\n",
        "  else:\n",
        "    if hora < 6:\n",
        "      return \"Buenas tardes\"\n",
        "    else:\n",
        "      return \"Buenas noches\""
      ],
      "execution_count": 44,
      "outputs": []
    },
    {
      "cell_type": "code",
      "metadata": {
        "colab": {
          "base_uri": "https://localhost:8080/",
          "height": 35
        },
        "id": "DJqZKEvExoW5",
        "outputId": "3107bc2e-f6ac-4114-81e7-7b96f2769320"
      },
      "source": [
        "saludar_v2(2)"
      ],
      "execution_count": 45,
      "outputs": [
        {
          "output_type": "execute_result",
          "data": {
            "application/vnd.google.colaboratory.intrinsic+json": {
              "type": "string"
            },
            "text/plain": [
              "'Buenos días'"
            ]
          },
          "metadata": {
            "tags": []
          },
          "execution_count": 45
        }
      ]
    },
    {
      "cell_type": "code",
      "metadata": {
        "id": "19H4J4KFzHKo"
      },
      "source": [
        "# entrada: hora militar\n",
        "# salida: saludo\n",
        "def saludar_v2(hora, meridiano=''):\n",
        "  if meridiano == '' :\n",
        "    return saludar(hora)\n",
        "  if meridiano == 'am':\n",
        "    return \"Buenos días\"\n",
        "  else:\n",
        "    if hora < 6:\n",
        "      return \"Buenas tardes\"\n",
        "    else:\n",
        "      return \"Buenas noches\""
      ],
      "execution_count": 46,
      "outputs": []
    },
    {
      "cell_type": "markdown",
      "metadata": {
        "id": "g64bv0A04e8h"
      },
      "source": [
        "Ejemplo de un programa calculadora con saludao \n",
        "para control de menu de opciones"
      ]
    },
    {
      "cell_type": "code",
      "metadata": {
        "colab": {
          "base_uri": "https://localhost:8080/"
        },
        "id": "Ci_GontQ4teB",
        "outputId": "b8fa8e1f-f90d-455e-d1cc-c66eba418ecf"
      },
      "source": [
        "def mostrarMenu():\n",
        "  print(\"Seleccione la opción: \")\n",
        "  print(\"1. Saludar\")\n",
        "  print(\"2. Sumatoria\")\n",
        "  print(\"3. Sumar\")\n",
        "  print(\"4. Restar\")\n",
        "  print(\"5. Salir\")\n",
        "\n",
        "def main():\n",
        "  seguir = True\n",
        "\n",
        "  while seguir:\n",
        "    mostrarMenu()\n",
        "    opcion = int(input(\"Opcion: \"))\n",
        "\n",
        "    if opcion == 1:\n",
        "      hora = int(input(\"Hora: \"))\n",
        "      print(saludar_v2(hora))\n",
        "    elif opcion == 2:\n",
        "      num = int(input(\"Numero N: \"))\n",
        "      print(\"sumatoria: \", sumatoriaR(num))\n",
        "    elif opcion == 3:\n",
        "      a = int(input(\"A: \"))\n",
        "      b = int(input(\"B: \"))\n",
        "      print(\" la suma es: \", a+b)\n",
        "    elif opcion == 4:\n",
        "      a = int(input(\"A: \"))\n",
        "      b = int(input(\"B: \"))\n",
        "      print(\" la resta es: \", a-b)\n",
        "    elif opcion == 5:\n",
        "      seguir = False\n",
        "    else:\n",
        "      print(\"Opcion incorrecta\")\n",
        "\n",
        "main()\n"
      ],
      "execution_count": 49,
      "outputs": [
        {
          "output_type": "stream",
          "text": [
            "Seleccione la opción: \n",
            "1. Saludar\n",
            "2. Sumatoria\n",
            "3. Sumar\n",
            "4. Restar\n",
            "5. Salir\n",
            "Opcion: 1\n",
            "Hora: 5\n",
            "Buenos días\n",
            "Seleccione la opción: \n",
            "1. Saludar\n",
            "2. Sumatoria\n",
            "3. Sumar\n",
            "4. Restar\n",
            "5. Salir\n",
            "Opcion: 2\n",
            "Numero N: 6\n",
            "sumatoria:  21\n",
            "Seleccione la opción: \n",
            "1. Saludar\n",
            "2. Sumatoria\n",
            "3. Sumar\n",
            "4. Restar\n",
            "5. Salir\n",
            "Opcion: 3\n",
            "A: 4\n",
            "B: 8\n",
            " la suma es:  12\n",
            "Seleccione la opción: \n",
            "1. Saludar\n",
            "2. Sumatoria\n",
            "3. Sumar\n",
            "4. Restar\n",
            "5. Salir\n",
            "Opcion: 8\n",
            "Opcion incorrecta\n",
            "Seleccione la opción: \n",
            "1. Saludar\n",
            "2. Sumatoria\n",
            "3. Sumar\n",
            "4. Restar\n",
            "5. Salir\n",
            "Opcion: 5\n"
          ],
          "name": "stdout"
        }
      ]
    },
    {
      "cell_type": "markdown",
      "metadata": {
        "id": "W2Uc6I708CaG"
      },
      "source": [
        "Script CLI"
      ]
    },
    {
      "cell_type": "code",
      "metadata": {
        "colab": {
          "base_uri": "https://localhost:8080/"
        },
        "id": "NAWPHDBm4ejh",
        "outputId": "70362181-2586-4428-fa17-d253baf5aa86"
      },
      "source": [
        "import os #, funciones as f\n",
        "from  os import system\n",
        "\n",
        "# version con funciones recursiva\n",
        "# 1+2+3+4 =   4+3+2+1\n",
        "def sumatoriaR(n):\n",
        "  if n == 1:    # condicion de parada\n",
        "    return 1\n",
        "  else:\n",
        "    return n + sumatoriaR(n-1) # Actualizacion, Repeticion\n",
        "\n",
        "def saludar(hora):\n",
        "  if hora < 12:\n",
        "    return \"Buenos días\"\n",
        "  elif hora < 18:\n",
        "    return \"Buenas tardes\"\n",
        "  else:\n",
        "    return \"Buenas noches\"\n",
        "\n",
        "\n",
        "def mostrarMenu():\n",
        "  system(\"cls\")\n",
        "  print(\"Seleccione la opción: \")\n",
        "  print(\"1. Saludar\")\n",
        "  print(\"2. Sumatoria\")\n",
        "  print(\"3. Sumar\")\n",
        "  print(\"4. Restar\")\n",
        "  print(\"5. Salir\") \n",
        "\n",
        "def main():\n",
        "  seguir = True\n",
        "\n",
        "  while seguir:\n",
        "    mostrarMenu()\n",
        "    opcion = int(input(\"Opcion: \"))\n",
        "\n",
        "    if opcion == 1:\n",
        "      hora = int(input(\"Hora: \"))\n",
        "      print(saludar(hora))\n",
        "    elif opcion == 2:\n",
        "      num = int(input(\"Numero N: \"))\n",
        "      print(\"sumatoria: \", sumatoriaR(num))\n",
        "    elif opcion == 3:\n",
        "      a = int(input(\"A: \"))\n",
        "      b = int(input(\"B: \"))\n",
        "      print(\" la suma es: \", a+b)\n",
        "    elif opcion == 4:\n",
        "      a = int(input(\"A: \"))\n",
        "      b = int(input(\"B: \"))\n",
        "      print(\" la resta es: \", a-b)\n",
        "    elif opcion == 5:\n",
        "      seguir = False\n",
        "    else:\n",
        "      print(\"Opcion incorrecta\")\n",
        "\n",
        "    os.system(\"pause\")\n",
        "\n",
        "main()\n"
      ],
      "execution_count": 52,
      "outputs": [
        {
          "output_type": "stream",
          "text": [
            "Seleccione la opción: \n",
            "1. Saludar\n",
            "2. Sumatoria\n",
            "3. Sumar\n",
            "4. Restar\n",
            "5. Salir\n",
            "Opcion: 5\n"
          ],
          "name": "stdout"
        }
      ]
    }
  ]
}